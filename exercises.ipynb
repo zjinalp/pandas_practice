{
 "cells": [
  {
   "cell_type": "markdown",
   "id": "2e32a52a",
   "metadata": {},
   "source": [
    "### Data Analysis on Morning Exercise Data"
   ]
  },
  {
   "cell_type": "code",
   "execution_count": 2,
   "id": "e3226234",
   "metadata": {},
   "outputs": [],
   "source": [
    "import numpy as np\n",
    "import pandas as pd"
   ]
  },
  {
   "cell_type": "code",
   "execution_count": 3,
   "id": "b1479547",
   "metadata": {},
   "outputs": [
    {
     "name": "stdout",
     "output_type": "stream",
     "text": [
      "      Name  Marks  Gender\n",
      "0  Priyang     98    Male\n",
      "1   Aadhya     89  Female\n",
      "2   Krisha     99  Female\n",
      "3   Vedant     87    Male\n",
      "4   Parshv     90    Male\n",
      "5   Mittal     83  Female\n",
      "6  Archana     99  Female\n"
     ]
    }
   ],
   "source": [
    "data = {\n",
    "        'Name':['Priyang','Aadhya','Krisha','Vedant','Parshv','Mittal','Archana'],\n",
    "        'Marks':[98,89,99,87,90,83,99],\n",
    "        'Gender':['Male','Female','Female','Male','Male','Female','Female']\n",
    "        }\n",
    "df=pd.DataFrame(data)\n",
    "print(df)"
   ]
  },
  {
   "cell_type": "markdown",
   "id": "e3a005ae",
   "metadata": {},
   "source": [
    "### top 3 rows"
   ]
  },
  {
   "cell_type": "code",
   "execution_count": 4,
   "id": "a9178658",
   "metadata": {},
   "outputs": [
    {
     "name": "stdout",
     "output_type": "stream",
     "text": [
      "      Name  Marks  Gender\n",
      "0  Priyang     98    Male\n",
      "1   Aadhya     89  Female\n",
      "2   Krisha     99  Female\n"
     ]
    }
   ],
   "source": [
    "print(df.head(3))"
   ]
  },
  {
   "cell_type": "markdown",
   "id": "7c535d90",
   "metadata": {},
   "source": [
    "### last 3 rows"
   ]
  },
  {
   "cell_type": "code",
   "execution_count": 5,
   "id": "e2c168ea",
   "metadata": {},
   "outputs": [
    {
     "name": "stdout",
     "output_type": "stream",
     "text": [
      "      Name  Marks  Gender\n",
      "4   Parshv     90    Male\n",
      "5   Mittal     83  Female\n",
      "6  Archana     99  Female\n"
     ]
    }
   ],
   "source": [
    "print(df.tail(3))"
   ]
  },
  {
   "cell_type": "markdown",
   "id": "6bea1353",
   "metadata": {},
   "source": [
    "### shape of dataset"
   ]
  },
  {
   "cell_type": "code",
   "execution_count": 7,
   "id": "0d60e4b2",
   "metadata": {},
   "outputs": [
    {
     "name": "stdout",
     "output_type": "stream",
     "text": [
      "(7, 3)\n",
      "rows 7\n",
      "columns 3\n"
     ]
    }
   ],
   "source": [
    "print(df.shape)\n",
    "print(\"rows\",df.shape[0])\n",
    "print(\"columns\",df.shape[1])"
   ]
  },
  {
   "cell_type": "markdown",
   "id": "819fa598",
   "metadata": {},
   "source": [
    "### Info "
   ]
  },
  {
   "cell_type": "code",
   "execution_count": 8,
   "id": "431ee136",
   "metadata": {},
   "outputs": [
    {
     "name": "stdout",
     "output_type": "stream",
     "text": [
      "<class 'pandas.core.frame.DataFrame'>\n",
      "RangeIndex: 7 entries, 0 to 6\n",
      "Data columns (total 3 columns):\n",
      " #   Column  Non-Null Count  Dtype \n",
      "---  ------  --------------  ----- \n",
      " 0   Name    7 non-null      object\n",
      " 1   Marks   7 non-null      int64 \n",
      " 2   Gender  7 non-null      object\n",
      "dtypes: int64(1), object(2)\n",
      "memory usage: 300.0+ bytes\n",
      "information  None\n"
     ]
    }
   ],
   "source": [
    "print(\"information \",df.info())"
   ]
  },
  {
   "cell_type": "markdown",
   "id": "22604c6b",
   "metadata": {},
   "source": [
    "### is any null ??"
   ]
  },
  {
   "cell_type": "code",
   "execution_count": 11,
   "id": "3afbe593",
   "metadata": {},
   "outputs": [
    {
     "name": "stdout",
     "output_type": "stream",
     "text": [
      "Name      0\n",
      "Marks     0\n",
      "Gender    0\n",
      "dtype: int64\n"
     ]
    }
   ],
   "source": [
    "print(df.isnull().sum(axis = 0))"
   ]
  },
  {
   "cell_type": "markdown",
   "id": "4f99b682",
   "metadata": {},
   "source": [
    "### overall statistics"
   ]
  },
  {
   "cell_type": "code",
   "execution_count": 12,
   "id": "a7b8aded",
   "metadata": {},
   "outputs": [
    {
     "name": "stdout",
     "output_type": "stream",
     "text": [
      "overall statistics            Name      Marks  Gender\n",
      "count         7   7.000000       7\n",
      "unique        7        NaN       2\n",
      "top     Priyang        NaN  Female\n",
      "freq          1        NaN       4\n",
      "mean        NaN  92.142857     NaN\n",
      "std         NaN   6.491753     NaN\n",
      "min         NaN  83.000000     NaN\n",
      "25%         NaN  88.000000     NaN\n",
      "50%         NaN  90.000000     NaN\n",
      "75%         NaN  98.500000     NaN\n",
      "max         NaN  99.000000     NaN\n"
     ]
    }
   ],
   "source": [
    "print(\"overall statistics\",df.describe(include=\"all\"))"
   ]
  },
  {
   "cell_type": "markdown",
   "id": "043dcba0",
   "metadata": {},
   "source": [
    "### unique value in gender"
   ]
  },
  {
   "cell_type": "code",
   "execution_count": 18,
   "id": "60f8b374",
   "metadata": {},
   "outputs": [
    {
     "name": "stdout",
     "output_type": "stream",
     "text": [
      "['Male' 'Female']\n",
      "2\n",
      "Gender\n",
      "Female    4\n",
      "Male      3\n",
      "Name: count, dtype: int64\n"
     ]
    }
   ],
   "source": [
    "print(df[\"Gender\"].unique())\n",
    "print(df[\"Gender\"].nunique())\n",
    "print(df[\"Gender\"].value_counts())"
   ]
  },
  {
   "cell_type": "code",
   "execution_count": 27,
   "id": "6af629f9",
   "metadata": {},
   "outputs": [
    {
     "name": "stdout",
     "output_type": "stream",
     "text": [
      "      Name  Marks  Gender\n",
      "0  Priyang     98    Male\n",
      "2   Krisha     99  Female\n",
      "4   Parshv     90    Male\n",
      "6  Archana     99  Female\n",
      "using between method :  4\n"
     ]
    }
   ],
   "source": [
    "smarks = df[(df[\"Marks\"] >= 90) & (df[\"Marks\"] <= 100)]\n",
    "print(smarks)\n",
    "\n",
    "print(\"using between method : \",sum(df[\"Marks\"].between(90,100)))"
   ]
  },
  {
   "cell_type": "code",
   "execution_count": 28,
   "id": "440ea51e",
   "metadata": {},
   "outputs": [
    {
     "name": "stdout",
     "output_type": "stream",
     "text": [
      "92.14285714285714\n"
     ]
    }
   ],
   "source": [
    "print(df[\"Marks\"].mean())"
   ]
  },
  {
   "cell_type": "markdown",
   "id": "ecddc48d",
   "metadata": {},
   "source": [
    "### avg marks using apply method"
   ]
  },
  {
   "cell_type": "code",
   "execution_count": null,
   "id": "a32ffb1d",
   "metadata": {},
   "outputs": [
    {
     "name": "stdout",
     "output_type": "stream",
     "text": [
      "      Name  Marks  Gender  male_female  half_marks\n",
      "0  Priyang     98    Male            1        49.0\n",
      "1   Aadhya     89  Female            0        44.5\n",
      "2   Krisha     99  Female            0        49.5\n",
      "3   Vedant     87    Male            1        43.5\n",
      "4   Parshv     90    Male            1        45.0\n",
      "5   Mittal     83  Female            0        41.5\n",
      "6  Archana     99  Female            0        49.5\n"
     ]
    }
   ],
   "source": [
    "def marks(x):\n",
    "    return x/2\n",
    "\n",
    "df[\"half_marks\"] = df[\"Marks\"].apply(marks)\n",
    "print(df)"
   ]
  },
  {
   "cell_type": "markdown",
   "id": "e3f07c3a",
   "metadata": {},
   "source": [
    "### length using apply method"
   ]
  },
  {
   "cell_type": "code",
   "execution_count": 30,
   "id": "38db4774",
   "metadata": {},
   "outputs": [
    {
     "data": {
      "text/plain": [
       "0    7\n",
       "1    6\n",
       "2    6\n",
       "3    6\n",
       "4    6\n",
       "5    6\n",
       "6    7\n",
       "Name: Name, dtype: int64"
      ]
     },
     "execution_count": 30,
     "metadata": {},
     "output_type": "execute_result"
    }
   ],
   "source": [
    "df[\"Name\"].apply(len)"
   ]
  },
  {
   "cell_type": "markdown",
   "id": "23557b62",
   "metadata": {},
   "source": [
    "### map function --> convert male to 1 and female to 0"
   ]
  },
  {
   "cell_type": "code",
   "execution_count": 32,
   "id": "ce488e65",
   "metadata": {},
   "outputs": [
    {
     "name": "stdout",
     "output_type": "stream",
     "text": [
      "      Name  Marks  Gender  male_female\n",
      "0  Priyang     98    Male            1\n",
      "1   Aadhya     89  Female            0\n",
      "2   Krisha     99  Female            0\n",
      "3   Vedant     87    Male            1\n",
      "4   Parshv     90    Male            1\n",
      "5   Mittal     83  Female            0\n",
      "6  Archana     99  Female            0\n"
     ]
    }
   ],
   "source": [
    "df[\"male_female\"] = df[\"Gender\"].map({\"Male\":1,\"Female\":0})\n",
    "print(df)"
   ]
  },
  {
   "cell_type": "markdown",
   "id": "9fbc3a48",
   "metadata": {},
   "source": []
  },
  {
   "cell_type": "code",
   "execution_count": 39,
   "id": "962bad1d",
   "metadata": {},
   "outputs": [
    {
     "name": "stdout",
     "output_type": "stream",
     "text": [
      "None\n"
     ]
    }
   ],
   "source": [
    "# df\n",
    "print(df.drop(\"half_marks\",axis = 1, inplace=True))"
   ]
  },
  {
   "cell_type": "markdown",
   "id": "417f794e",
   "metadata": {},
   "source": [
    "### display all column name \n"
   ]
  },
  {
   "cell_type": "code",
   "execution_count": 40,
   "id": "777ef12e",
   "metadata": {},
   "outputs": [
    {
     "name": "stdout",
     "output_type": "stream",
     "text": [
      "Index(['Name', 'Marks', 'Gender', 'male_female'], dtype='object')\n"
     ]
    }
   ],
   "source": [
    "print(df.columns)"
   ]
  },
  {
   "cell_type": "markdown",
   "id": "af9925f8",
   "metadata": {},
   "source": [
    "### sort df as per marks"
   ]
  },
  {
   "cell_type": "code",
   "execution_count": 41,
   "id": "3e494c98",
   "metadata": {},
   "outputs": [
    {
     "name": "stdout",
     "output_type": "stream",
     "text": [
      "      Name  Marks  Gender  male_female\n",
      "5   Mittal     83  Female            0\n",
      "3   Vedant     87    Male            1\n",
      "1   Aadhya     89  Female            0\n",
      "4   Parshv     90    Male            1\n",
      "0  Priyang     98    Male            1\n",
      "2   Krisha     99  Female            0\n",
      "6  Archana     99  Female            0\n"
     ]
    }
   ],
   "source": [
    "print(df.sort_values(\"Marks\"))"
   ]
  },
  {
   "cell_type": "markdown",
   "id": "7291f65c",
   "metadata": {},
   "source": [
    "### display name and marks of the female students --> using isin method"
   ]
  },
  {
   "cell_type": "code",
   "execution_count": 51,
   "id": "aed02172",
   "metadata": {},
   "outputs": [
    {
     "name": "stdout",
     "output_type": "stream",
     "text": [
      "      Name  Marks\n",
      "1   Aadhya     89\n",
      "2   Krisha     99\n",
      "5   Mittal     83\n",
      "6  Archana     99\n",
      "------using isin method : \n",
      "       Name  Marks\n",
      "1   Aadhya     89\n",
      "2   Krisha     99\n",
      "5   Mittal     83\n",
      "6  Archana     99\n"
     ]
    }
   ],
   "source": [
    "print(df[(df[\"Gender\"] == \"Female\")][[\"Name\",\"Marks\"]])\n",
    "\n",
    "print(\"------using isin method : \\n\", df[df[\"Gender\"].isin([\"Female\"])][[\"Name\",\"Marks\"]])"
   ]
  }
 ],
 "metadata": {
  "kernelspec": {
   "display_name": ".venv",
   "language": "python",
   "name": "python3"
  },
  "language_info": {
   "codemirror_mode": {
    "name": "ipython",
    "version": 3
   },
   "file_extension": ".py",
   "mimetype": "text/x-python",
   "name": "python",
   "nbconvert_exporter": "python",
   "pygments_lexer": "ipython3",
   "version": "3.13.3"
  }
 },
 "nbformat": 4,
 "nbformat_minor": 5
}
